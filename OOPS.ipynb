{
  "nbformat": 4,
  "nbformat_minor": 0,
  "metadata": {
    "colab": {
      "provenance": []
    },
    "kernelspec": {
      "name": "python3",
      "display_name": "Python 3"
    },
    "language_info": {
      "name": "python"
    }
  },
  "cells": [
    {
      "cell_type": "markdown",
      "source": [
        "#Python OOPs Questions\n"
      ],
      "metadata": {
        "id": "6U3T1uUKZNPk"
      }
    },
    {
      "cell_type": "markdown",
      "source": [
        "1. What is Object-Oriented Programming (OOP)?\n",
        "ANS: It is based on the concept of objects which represents the real-world entities or concepts. Objects encapsulates data(attribute/properties) and behavior (methods/function) into a single unit, reusable. It also helps you to arrange the required functions in respective class."
      ],
      "metadata": {
        "id": "bIKD1jvrZRSs"
      }
    },
    {
      "cell_type": "markdown",
      "source": [
        "2. What is a class in OOP?\n",
        "ANS: Its original template or blueprint used for creating an object. Objects created from the same class have their own copies of attributes / properties but share the same method. Also, class enable code reuse and modularity."
      ],
      "metadata": {
        "id": "cXTg-it4a-x4"
      }
    },
    {
      "cell_type": "markdown",
      "source": [
        "3. What is an object in OOP?\n",
        "ANS: An object is an instance of class. It represents a specific entity that contains attributes and methods. It also have a unique identifier that distinguishes one object from another. A class provide the structure , while an object is a specific implementation."
      ],
      "metadata": {
        "id": "pp7V2QQrbunH"
      }
    },
    {
      "cell_type": "markdown",
      "source": [
        "4. What is the difference between abstraction and encapsulation?\n",
        "ANS: Abstraction:\n",
        "- It is a concept of hiding complex implementation and exposing the required details.\n",
        "- Abstract class can not be instantiated(can't make an object)\n",
        "- It reduce complexity and increase focus on what an object does rather than how it does.\n",
        "- It access the abstract class and interfaces.\n",
        "\n",
        "Encapsulation:\n",
        "- It means hiding something in the code\n",
        "- It bundling of data and methods of a class.\n",
        "- It protect the integrity of an object's state by controlling access and modifications.\n",
        "- It access modifiers, getters and setters.\n"
      ],
      "metadata": {
        "id": "mqbCIdZwc7JU"
      }
    },
    {
      "cell_type": "markdown",
      "source": [
        "5.  What are dunder methods in Python?\n",
        "ANS: It is also called as magical or special method. The methods are define by built in class in python. All methods are surrounding by double underscore (e.g.- __init__, __str__, __add__). It also helps to operating overloading in python. Also, we define this type of methods/ classes for creating custom objects."
      ],
      "metadata": {
        "id": "MiKW0mBHepB9"
      }
    },
    {
      "cell_type": "markdown",
      "source": [
        "6.Explain the concept of inheritance in OOP?\n",
        "ANS: It refers to process of child receiving the properties of parent class. It also means that allows one class to inherit the attributes and methods of another class. In heritance allows method overriding.\n",
        "inherits Types of inheritance:\n",
        "- Single Inheritance= A child class inherits from one parent class.\n",
        "- Multiple Inheritance= A one child class may inherit the property of multiple parent class.\n",
        "- Multilevel Inheritance= A child class inherits from a parent class , and that parent class is itself a child of another class.\n",
        "- Hierarchical Inheritance= Multiple child class inherit from a single parent class.\n",
        "- Hybrid Inheritance= Multiple types or combination of different inheritance  "
      ],
      "metadata": {
        "id": "3OBe37dvkrJl"
      }
    },
    {
      "cell_type": "markdown",
      "source": [
        "7. What is polymorphism in OOP?\n",
        "ANS: It refers to an object taking several forms depending on methods/ data. It also allows objects to behave differently based on their types, even when accessed through a common interface. Polymorphism in oops take place in two ways:\n",
        "- Method Overloading= In python doesn't support true method overloading. It also happened in same class.\n",
        "- Method Overriding= Method in parent class and child class with same signature, the class method will be executed.\n"
      ],
      "metadata": {
        "id": "Une0iS6znH8B"
      }
    },
    {
      "cell_type": "markdown",
      "source": [
        "8. How is encapsulation achieved in Python?\n",
        "ANS: In encapsulation, it happened bundling of data and class. It using access modifier(public, protected, private) and controlled access through getter and setter methods. @property decorator simplifies the creation of getter and setter methods. Access Modifier:\n",
        "- Public= It accessible from anywhere from outside/ inside  the class.\n",
        "- Private= The data and method is only accessible within the class , and used  (__) to make private.\n",
        "- Protected= It used within the class and its subclass and used(_) to make protected."
      ],
      "metadata": {
        "id": "Z4zxAal4otQ8"
      }
    },
    {
      "cell_type": "markdown",
      "source": [
        "9. What is a constructor in Python?\n",
        "ANS: It is a special method called __init__() that automatically invoked when a new object of a class is created. The purpose of a constructor is to initialize the object's attributes with initial values. They make the code more readable and organized by initialization within the class. The first parameter of the constructor is self, which refers to the object being created."
      ],
      "metadata": {
        "id": "NGfVQF-SqsrX"
      }
    },
    {
      "cell_type": "markdown",
      "source": [
        "10. What are class and static methods in Python?\n",
        "ANS: Class Method= It bound the class not the instance. It can access or modify methods and attributes associated to the class across all the instances. Its define as @classmethod. Instead of self, it take class as first parameter. Class method can modify class state applicable to all the instance of class.\n",
        "\n",
        "Static Method= It is a method that does not operate on the class or instance. Its doesn't depend on class or instance. It behave like a plain function that belongs to class. It define as @staticmethod. It doesn't take either self or class. It cannot access or modify class or instance attributes."
      ],
      "metadata": {
        "id": "goOAcojvtAda"
      }
    },
    {
      "cell_type": "markdown",
      "source": [
        "11. What is method overloading in Python?\n",
        "ANS: It refers to define multiple methods with the same name but different parameters within the same class. Python doesn't support the true method overloading."
      ],
      "metadata": {
        "id": "J9MkXpPeyV6S"
      }
    },
    {
      "cell_type": "markdown",
      "source": [
        "12. What is method overriding in OOP?\n",
        "ANS: Method in parent class and child class with same signature, the class method will be executed. It is to allow a subclass redefines a method from the parent class. It also requires inheritance between classes. It must be the same as the parent class.\n",
        "\n",
        "\n"
      ],
      "metadata": {
        "id": "1is3ebFxzkaf"
      }
    },
    {
      "cell_type": "markdown",
      "source": [
        "13. What is a property decorator in Python?\n",
        "ANS: It allows class method to be accessed as an attribute. It also allows you to create getter, setter and deleter methods for a class attribute."
      ],
      "metadata": {
        "id": "4c9fd_oc0anm"
      }
    },
    {
      "cell_type": "markdown",
      "source": [
        "14. Why is polymorphism important in OOP?\n",
        "ANS: In polymorphism, the same method or function can be used for different object types. Also, we can add new classes and behaviors without changing existing code. It allows subclasses to inherit and override methods, increasing code reuse. It easier to maintain and extend the system due to encapsulated behavior."
      ],
      "metadata": {
        "id": "aEyK_j9y1X7Q"
      }
    },
    {
      "cell_type": "markdown",
      "source": [
        "15. What is an abstract class in Python?\n",
        "ANS: It is a concept of hiding complex and exposing the required details. It cannot be instantiated and cannot make the object. Abstract class should always be a subclass. It define as @abstarctmethod. It contain the method that are declared and not be implemented in the abstract class itself, and subclass are responsible for implementing for an abstract method."
      ],
      "metadata": {
        "id": "BdL3oIZm324F"
      }
    },
    {
      "cell_type": "markdown",
      "source": [
        "16. What are the advantages of OOP?\n",
        "ANS: OOPS helps to arrange the required function in respective of class. It organize the code into independent classes, making it easier to manage and extend. Inheritance allows for reuse of code, reducing duplication and development effort. It hides complex implementation details and exposes only relevant functionality."
      ],
      "metadata": {
        "id": "xf4QI2655CoH"
      }
    },
    {
      "cell_type": "markdown",
      "source": [
        "17. What is the difference between a class variable and an instance variable?\n",
        "ANS: Class variable:\n",
        "- Class variables are shared by all instance of a class.\n",
        "- It defined inside the class but outside any methods\n",
        "- It used original template or blueprint for creating an object.\n",
        "- It accessed using self or the class name.\n",
        "- It used for data that should be consistent across all objects.\n",
        "\n",
        "Instance variable:\n",
        "- Instance variable are specific to each object of a class.\n",
        "- It defined within instance methods( __init__)\n",
        "- It accessed using self.\n",
        "- It can have different values for each object.\n",
        "- It used for data that is unique to each object."
      ],
      "metadata": {
        "id": "5EBdlr7X7XmF"
      }
    },
    {
      "cell_type": "markdown",
      "source": [
        "18. What is multiple inheritance in Python?\n",
        "ANS: A one child class may inherit the property of multiple parent class. A subclass can inherit from multiple base class. The subclass can access methods  and attributes from all of its parent classes. It also provide the flexibility and reusability but can it also introduce the complexity."
      ],
      "metadata": {
        "id": "2YCZdBaE9BsN"
      }
    },
    {
      "cell_type": "markdown",
      "source": [
        "19. Explain the purpose of ‘’__str__’ and ‘__repr__’ ‘ methods in Python?\n",
        "ANS: In python, __str__ and __repr__ are special methods used to define how an object is represented as a string.\n",
        "__str__ : - It provides a user-friendly string representation of asn object.\n",
        "- It automatically called by the str() function and by the print() function.\n",
        "- If __str__ is not defined, __repr__ is used as a fallback.\n",
        "- It focus on readability for users.\n",
        "\n",
        "__repr__ : - It provides an unambiguous string representation of an object, one that could be used to recreate the object.\n",
        "- It automatically called by the repr() function and in the interactive interpreter.\n",
        "-If neither __str__ nor __repr__ is defined, python defaults to a memory address representation."
      ],
      "metadata": {
        "id": "QDAoZ86G-DlA"
      }
    },
    {
      "cell_type": "markdown",
      "source": [
        "20. What is the significance of the ‘super()’ function in Python?\n",
        "ANS: It used to call methods from a parent class in a child class. syntax = super(). It returns a temporary object of the superclass that allow access to its methods. It useful when the child class overrides methods and need to access the functionality of the parent class method. It makes the code more flexible to changes in the class. It also helps avoid redundancy by calling parent methods easily."
      ],
      "metadata": {
        "id": "jfYjOYaZAedt"
      }
    },
    {
      "cell_type": "markdown",
      "source": [
        "21. What is the significance of the __del__ method in Python?\n",
        "ANS: The __del__ also known as destructor, that is called when an object is no longer in use and is about to be removed from memory. The __del__ method is defined within a class and is called when there are no more references to the object, and it is ready for garbage collection."
      ],
      "metadata": {
        "id": "F1TR0BGiCmyb"
      }
    },
    {
      "cell_type": "markdown",
      "source": [
        "22. What is the difference between @staticmethod and @classmethod in Python?\n",
        "ANS: @staticmethod:\n",
        "- It is a method that does not take a refernce to the instance or class (self or cls) as the first parameter.\n",
        "- It's doesn't depend on class or instance.\n",
        "- It behave like a plain function that belongs to class.\n",
        "- It doesn't take self or class.\n",
        "- It works with the parameter passed.\n",
        "\n",
        "@classmethod:\n",
        "- It can access or modify methods and attributes associated to the class across all the instances.\n",
        "- Class method can modify class state applicable to all the instances of class.\n",
        "- It takes cls as the first parameter, which refer to the class.\n",
        "- It can access and modify class-level data using cls.\n",
        "- It can be called on both the class and the instance, and can access class-level data"
      ],
      "metadata": {
        "id": "seJ32KrjESsP"
      }
    },
    {
      "cell_type": "markdown",
      "source": [
        "23. How does polymorphism work in Python with inheritance?\n",
        "ANS: Polymorphism allows objects of different classes to be treated as objects of a common parent class. This is used method overriding in inheritance, where a subclass provides its specific implementation of a method that is defined in the parent class. Subclass to override methods in parent class to provide specific behavior. Functions to operate on objects of different classes using a shared interface and increasing flexibility."
      ],
      "metadata": {
        "id": "DZ4lgc68WkZi"
      }
    },
    {
      "cell_type": "markdown",
      "source": [
        "24. What is method chaining in Python OOP?\n",
        "ANS: It is a technique that allows multiple methods to be called sequentially on the same object, all in a single line of code. To implement method chaining, methods should return self. It used to make the code more readable."
      ],
      "metadata": {
        "id": "nHjoTFT6YkMZ"
      }
    },
    {
      "cell_type": "markdown",
      "source": [
        "25. What is the purpose of the __call__ method in Python?\n",
        "ANS: The __call__ method that allows an instance of a class to be called as if it were a function. It is useful for creating callable objects, decorators."
      ],
      "metadata": {
        "id": "XADvLaKWZb5I"
      }
    },
    {
      "cell_type": "markdown",
      "source": [
        "#Practical Questions\n"
      ],
      "metadata": {
        "id": "leuWZhzta-YF"
      }
    },
    {
      "cell_type": "markdown",
      "source": [
        "1. Create a parent class Animal with a method speak() that prints a generic message. Create a child class Dog that overrides the speak() method to print \"Bark!\"."
      ],
      "metadata": {
        "id": "Es4gPDJ9bBl5"
      }
    },
    {
      "cell_type": "code",
      "source": [
        "class Animal:\n",
        "  def speak(self):\n",
        "    print(\"Animal is speaking\")\n",
        "\n",
        "class Dog(Animal):\n",
        "  def speak(self):\n",
        "    print(\"Bark!\")\n",
        "\n",
        "dog = Dog()\n",
        "dog.speak()"
      ],
      "metadata": {
        "colab": {
          "base_uri": "https://localhost:8080/"
        },
        "id": "J58X4dOn7W5n",
        "outputId": "fd8a2081-0009-4379-c5d4-7b79f61063c5"
      },
      "execution_count": null,
      "outputs": [
        {
          "output_type": "stream",
          "name": "stdout",
          "text": [
            "Bark!\n"
          ]
        }
      ]
    },
    {
      "cell_type": "markdown",
      "source": [
        "2.  Write a program to create an abstract class Shape with a method area(). Derive classes Circle and Rectangle from it and implement the area() method in both.\n"
      ],
      "metadata": {
        "id": "9s9OyDQpbo7d"
      }
    },
    {
      "cell_type": "code",
      "source": [
        "class Shape:\n",
        "  def area(self):\n",
        "    pass\n",
        "\n",
        "class Circle(Shape):\n",
        "  def area(self, radius):\n",
        "    return 3.14 * radius * radius\n",
        "\n",
        "class Rectangle(Shape):\n",
        "  def area(self, length, width):\n",
        "    return length * width\n",
        "\n",
        "circle= Circle()\n",
        "print(circle.area(5))\n",
        "\n",
        "rectangle= Rectangle()\n",
        "print(rectangle.area(5, 3))\n",
        "\n"
      ],
      "metadata": {
        "colab": {
          "base_uri": "https://localhost:8080/"
        },
        "id": "z3IIw2uvbm2b",
        "outputId": "d1b0ba9a-efdb-4a7e-cbf1-6f4859097543"
      },
      "execution_count": null,
      "outputs": [
        {
          "output_type": "stream",
          "name": "stdout",
          "text": [
            "78.5\n",
            "15\n"
          ]
        }
      ]
    },
    {
      "cell_type": "code",
      "source": [
        "from abc import ABC, abstractmethod\n",
        "import math\n",
        "\n",
        "class Shape(ABC):\n",
        "  @abstractmethod\n",
        "  def area(self):\n",
        "    pass\n",
        "\n",
        "class Circle(Shape):\n",
        "  def __init__(self,radius):\n",
        "    self.radius = radius\n",
        "\n",
        "  def area(self):\n",
        "      return math.pi *self.radius * self.radius\n",
        "\n",
        "class Rectangle(Shape):\n",
        "  def __init__(self, width,height):\n",
        "    self.width = width\n",
        "    self.height = height\n",
        "\n",
        "  def area(self):\n",
        "      return self.width * self.height\n",
        "\n",
        "circle= Circle(5)\n",
        "print(circle.area())\n",
        "\n",
        "rectangle= Rectangle(4,3)\n",
        "print(rectangle.area())"
      ],
      "metadata": {
        "colab": {
          "base_uri": "https://localhost:8080/"
        },
        "id": "CohzjTIxc4Vh",
        "outputId": "6e735274-c81a-42d8-c5b3-aab4475893d8"
      },
      "execution_count": null,
      "outputs": [
        {
          "output_type": "stream",
          "name": "stdout",
          "text": [
            "78.53981633974483\n",
            "12\n"
          ]
        }
      ]
    },
    {
      "cell_type": "markdown",
      "source": [
        "3.  Implement a multi-level inheritance scenario where a class Vehicle has an attribute type. Derive a class Car and further derive a class ElectricCar that adds a battery attribute."
      ],
      "metadata": {
        "id": "p1HBn_-NiFXA"
      }
    },
    {
      "cell_type": "code",
      "source": [
        "class Vehicle:\n",
        "  def __init__(self, type):\n",
        "    self.type = type\n",
        "\n",
        "class Car(Vehicle):\n",
        "  def __init__(self, type, model):\n",
        "    super().__init__(type)\n",
        "    self.model = model\n",
        "\n",
        "class ElectricCar(Car):\n",
        "  def __init__(self, type, model, battery ):\n",
        "    super().__init__(type,model)\n",
        "    self.battery = battery\n",
        "\n",
        "\n",
        "car= Car(\"sedan\", \"Toyoto\")\n",
        "print(car.type)\n",
        "print(car.model)\n",
        "\n",
        "electrccar= ElectricCar(\"sedan\", \"Toyoto\",\"5000\")\n",
        "print(electrccar.type)\n",
        "print(electrccar.model)\n",
        "print(electrccar.battery)\n",
        "\n"
      ],
      "metadata": {
        "colab": {
          "base_uri": "https://localhost:8080/"
        },
        "id": "9ENCNwZmgqNX",
        "outputId": "f0b8e404-deb4-46bd-b3b3-875de57a8f4e"
      },
      "execution_count": null,
      "outputs": [
        {
          "output_type": "stream",
          "name": "stdout",
          "text": [
            "sedan\n",
            "Toyoto\n",
            "sedan\n",
            "Toyoto\n",
            "5000\n"
          ]
        }
      ]
    },
    {
      "cell_type": "markdown",
      "source": [
        "4.  Implement a multi-level inheritance scenario where a class Vehicle has an attribute type. Derive a class Car and further derive a class ElectricCar that adds a battery attribute."
      ],
      "metadata": {
        "id": "vwZ-9fZL3r77"
      }
    },
    {
      "cell_type": "code",
      "source": [
        "class Vehicle:\n",
        "  def __init__(self, type):\n",
        "    self.type = type\n",
        "\n",
        "class Car(Vehicle):\n",
        "  def __init__(self, type, model):\n",
        "    super().__init__(type)\n",
        "    self.model = model\n",
        "\n",
        "class ElectricCar(Car):\n",
        "  def __init__(self, type, model, battery ):\n",
        "    super().__init__(type,model)\n",
        "    self.battery = battery\n",
        "\n",
        "\n",
        "car= Car(\"sedan\", \"Toyoto\")\n",
        "print(\"Car_type:\", car.type)\n",
        "print(\"Car_model:\", car.model)\n",
        "\n",
        "electrccar= ElectricCar(\"sedan\", \"Toyoto\",\"5000\")\n",
        "print(\"EectricCar:\", electrccar.type)\n",
        "print(\"EectricCar_model:\", electrccar.model)\n",
        "print(\"EectricCar_battery:\", electrccar.battery)\n",
        "\n"
      ],
      "metadata": {
        "colab": {
          "base_uri": "https://localhost:8080/"
        },
        "id": "qV8Ba3dhjHd7",
        "outputId": "fd18eab3-5b6f-46eb-d430-7160e2ab8247"
      },
      "execution_count": null,
      "outputs": [
        {
          "output_type": "stream",
          "name": "stdout",
          "text": [
            "Car_type: sedan\n",
            "Car_model: Toyoto\n",
            "EectricCar: sedan\n",
            "EectricCar_model: Toyoto\n",
            "EectricCar_battery: 5000\n"
          ]
        }
      ]
    },
    {
      "cell_type": "markdown",
      "source": [
        "5. Write a program to demonstrate encapsulation by creating a class BankAccount with private attributes balance and methods to deposit, withdraw, and check balance."
      ],
      "metadata": {
        "id": "7x4uKOOT4XGb"
      }
    },
    {
      "cell_type": "code",
      "source": [
        "class BankAccount:\n",
        "  def __init__(self, balance):\n",
        "    self.balance = balance\n",
        "\n",
        "  def deposit(self,amount):\n",
        "    self.balance += amount\n",
        "    return self.balance\n",
        "\n",
        "  def withdraw(self,amount):\n",
        "    self.balance -= amount\n",
        "    return self.balance\n",
        "\n",
        "  def check_balance(self):\n",
        "    return self.balance\n",
        "\n",
        "account= BankAccount(1000)\n",
        "print(\"deposit:\", account.deposit(500))\n",
        "print(\"withdraw:\", account.withdraw(200))\n",
        "print(account.check_balance)\n"
      ],
      "metadata": {
        "colab": {
          "base_uri": "https://localhost:8080/"
        },
        "id": "4S1kPRkL4SSO",
        "outputId": "9beefaa7-65ae-47a2-8cc2-d96f8e38243f"
      },
      "execution_count": null,
      "outputs": [
        {
          "output_type": "stream",
          "name": "stdout",
          "text": [
            "deposit: 1500\n",
            "withdraw: 1300\n",
            "<bound method BankAccount.check_balance of <__main__.BankAccount object at 0x7cadf9189e10>>\n"
          ]
        }
      ]
    },
    {
      "cell_type": "code",
      "source": [
        "class BankAccount:\n",
        "  def __init__(self, account_holder, initial_balance=0):\n",
        "    self.__balance = initial_balance\n",
        "    self.account_holder = account_holder\n",
        "\n",
        "  def deposit(self,amount):\n",
        "    if amount > 0:\n",
        "      self.__balance += amount\n",
        "      print(\"Deposited:\", amount)\n",
        "    else:\n",
        "      return \"Invalid amount\"\n",
        "\n",
        "  def withdraw(self,amount):\n",
        "    if amount > self.__balance:\n",
        "      print(\"Insufficient balance\")\n",
        "    elif amount <=0:\n",
        "      print(\"Withdraw amount\")\n",
        "    else:\n",
        "      self.__balance -= amount\n",
        "      print(\"Withdraw:\", amount)\n",
        "\n",
        "  def check_balance(self):\n",
        "    print(\"Current balance\", self.__balance)\n",
        "\n",
        "\n",
        "account= BankAccount(\"priya\", 1000)\n",
        "account.deposit(500)\n",
        "account.check_balance()\n",
        "account.withdraw(200)\n",
        "account.check_balance()\n",
        "\n"
      ],
      "metadata": {
        "colab": {
          "base_uri": "https://localhost:8080/"
        },
        "id": "e2izkHc85uH5",
        "outputId": "a2a17976-bc82-4a8e-e27a-d56902bd6e27"
      },
      "execution_count": null,
      "outputs": [
        {
          "output_type": "stream",
          "name": "stdout",
          "text": [
            "Deposited: 500\n",
            "Current balance 1500\n",
            "Withdraw: 200\n",
            "Current balance 1300\n"
          ]
        }
      ]
    },
    {
      "cell_type": "markdown",
      "source": [
        "6. Demonstrate runtime polymorphism using a method play() in a base class Instrument. Derive classes Guitar and Piano that implement their own version of play()."
      ],
      "metadata": {
        "id": "Q9U9T1lI8lhF"
      }
    },
    {
      "cell_type": "code",
      "source": [
        "class Instrument:\n",
        "  def play(self):\n",
        "    print(\"Playing an instrument.\")\n",
        "\n",
        "class Guitar(Instrument):\n",
        "  def play(self):\n",
        "    print(\"Playing a guitar strings.\")\n",
        "\n",
        "class Piano(Instrument):\n",
        "  def play(self):\n",
        "    print(\"Playing a piano keys\")\n",
        "\n",
        "def perform(instrument):\n",
        "    instrument.play()\n",
        "\n",
        "guitar= Guitar()\n",
        "perform(guitar)\n",
        "\n",
        "piano= Piano()\n",
        "perform(piano)"
      ],
      "metadata": {
        "colab": {
          "base_uri": "https://localhost:8080/"
        },
        "id": "Z6KlcjT28YHP",
        "outputId": "760aaee8-8cad-4411-f60b-639066255251"
      },
      "execution_count": null,
      "outputs": [
        {
          "output_type": "stream",
          "name": "stdout",
          "text": [
            "Playing a guitar strings.\n",
            "Playing a piano keys\n"
          ]
        }
      ]
    },
    {
      "cell_type": "markdown",
      "source": [
        "7.  Create a class MathOperations with a class method add_numbers() to add two numbers and a static method subtract_numbers() to subtract two numbers."
      ],
      "metadata": {
        "id": "JPnRwLj2-8GU"
      }
    },
    {
      "cell_type": "code",
      "source": [
        "class MathOperations:\n",
        "  @classmethod\n",
        "  def add_numbers(cls, num1, num2):\n",
        "    return num1 + num2\n",
        "\n",
        "  @staticmethod\n",
        "  def subtract_numbers(num1,num2):\n",
        "    return num1 - num2\n",
        "\n",
        "print(\"Addition:\", MathOperations.add_numbers(6,7))\n",
        "print(\"Subtraction:\", MathOperations.subtract_numbers(9,4))"
      ],
      "metadata": {
        "colab": {
          "base_uri": "https://localhost:8080/"
        },
        "id": "5d-9nRQf9Se3",
        "outputId": "d3af203a-ac4b-4707-8d04-cc81f046e124"
      },
      "execution_count": null,
      "outputs": [
        {
          "output_type": "stream",
          "name": "stdout",
          "text": [
            "Addition: 13\n",
            "Subtraction: 5\n"
          ]
        }
      ]
    },
    {
      "cell_type": "markdown",
      "source": [
        "8.  Implement a class Person with a class method to count the total number of persons created."
      ],
      "metadata": {
        "id": "5fB07Lc1AMoF"
      }
    },
    {
      "cell_type": "code",
      "source": [
        "class Person:\n",
        "  count = 0\n",
        "\n",
        "  def __init__(self, name):\n",
        "    self.name = name\n",
        "    Person.count += 1\n",
        "\n",
        "  @classmethod\n",
        "  def get_total_persons(cls):\n",
        "    return cls.count\n",
        "\n",
        "person1 = Person(\"Priya\")\n",
        "person2 = Person(\"Minal\")\n",
        "person3 = Person(\"Raj\")\n",
        "\n",
        "print(\"Total_Persons:\", Person.get_total_persons())"
      ],
      "metadata": {
        "colab": {
          "base_uri": "https://localhost:8080/"
        },
        "id": "SJAy_6uQ_zAO",
        "outputId": "e8a2c488-290d-4d4f-ec4a-e2bf122f8857"
      },
      "execution_count": null,
      "outputs": [
        {
          "output_type": "stream",
          "name": "stdout",
          "text": [
            "Total_Persons: 3\n"
          ]
        }
      ]
    },
    {
      "cell_type": "markdown",
      "source": [
        "9.  Write a class Fraction with attributes numerator and denominator. Override the str method to display the fraction as \"numerator/denominator\"."
      ],
      "metadata": {
        "id": "E4-NY4ikB-h9"
      }
    },
    {
      "cell_type": "code",
      "source": [
        "class Fraction:\n",
        "  def __init__(self, numerator, denominator):\n",
        "    self.numerator = numerator\n",
        "    self.denominator = denominator\n",
        "\n",
        "  def __str__(self):\n",
        "    return f\" {self.numerator}/{self.denominator}\"\n",
        "\n",
        "fraction1= Fraction(3, 4)\n",
        "fraction2= Fraction(4, 8)\n",
        "print(\"Fraction1:\",  fraction1)\n",
        "print(\"Fraction2:\",  fraction2)"
      ],
      "metadata": {
        "colab": {
          "base_uri": "https://localhost:8080/"
        },
        "id": "6_z6XSaEBmCX",
        "outputId": "d2514b0e-d40e-442a-e69e-06a45ae9124d"
      },
      "execution_count": null,
      "outputs": [
        {
          "output_type": "stream",
          "name": "stdout",
          "text": [
            "Fraction1:  3/4\n",
            "Fraction2:  4/8\n"
          ]
        }
      ]
    },
    {
      "cell_type": "markdown",
      "source": [
        "10. Demonstrate operator overloading by creating a class Vector and overriding the add method to add two vectors."
      ],
      "metadata": {
        "id": "ABen7nvpDt5j"
      }
    },
    {
      "cell_type": "code",
      "source": [
        "class Vector:\n",
        "  def __init__(self,x,y):\n",
        "    self.x = x\n",
        "    self.y = y\n",
        "  def __add__(self, other):\n",
        "    return Vector(self.x + other.x, self.y + other.y)\n",
        "\n",
        "  def __str__(self):\n",
        "    return f\"({self.x},{self.y})\"\n",
        "\n",
        "vector1= Vector(2,4)\n",
        "vector2= Vector(3,7)\n",
        "\n",
        "result= vector1 + vector2\n",
        "\n",
        "print(\"Vector1:\", vector1)\n",
        "print(\"Vector2:\", vector2)\n",
        "print(\"Result:\", result)"
      ],
      "metadata": {
        "colab": {
          "base_uri": "https://localhost:8080/"
        },
        "id": "ZxaCU0J5DJhW",
        "outputId": "35a5d149-8179-4c0c-af80-ee0824d5044d"
      },
      "execution_count": null,
      "outputs": [
        {
          "output_type": "stream",
          "name": "stdout",
          "text": [
            "Vector1: (2,4)\n",
            "Vector2: (3,7)\n",
            "Result: (5,11)\n"
          ]
        }
      ]
    },
    {
      "cell_type": "markdown",
      "source": [
        "11. Create a class Person with attributes name and age. Add a method greet() that prints \"Hello, my name is {name} and I am {age} years old."
      ],
      "metadata": {
        "id": "AdhzNpVcGY6O"
      }
    },
    {
      "cell_type": "code",
      "source": [
        "class Person:\n",
        "  def __init__(self, name, age):\n",
        "    self.name = name\n",
        "    self.age = age\n",
        "\n",
        "  def greet(self):\n",
        "    print(f\"Hello, my name is {self.name} and I am {self.age} years old. \")\n",
        "\n",
        "person1= Person(\"Raj\", 25)\n",
        "person2 = Person(\"Rupa\", 24)\n",
        "\n",
        "person1.greet()\n",
        "person2.greet()"
      ],
      "metadata": {
        "colab": {
          "base_uri": "https://localhost:8080/"
        },
        "id": "M4dWRW2tE1Zn",
        "outputId": "7e70f590-eb7c-4b12-ed24-a1c16049826f"
      },
      "execution_count": null,
      "outputs": [
        {
          "output_type": "stream",
          "name": "stdout",
          "text": [
            "Hello, my name is Raj and I am 25 years old. \n",
            "Hello, my name is Rupa and I am 24 years old. \n"
          ]
        }
      ]
    },
    {
      "cell_type": "markdown",
      "source": [
        "12.  Implement a class Student with attributes name and grades. Create a method average_grade() to compute the average of the grades."
      ],
      "metadata": {
        "id": "fKvqYaTUHZM3"
      }
    },
    {
      "cell_type": "code",
      "source": [
        "class Student:\n",
        "  def __init__(self, name, grades):\n",
        "    self.name = name\n",
        "    self.grades = grades\n",
        "\n",
        "  def average_grade(self):\n",
        "    if len(self.grades)  >0:\n",
        "        total = sum(self.grades)\n",
        "        average = total / len(self.grades)\n",
        "        return average\n",
        "    return 0\n",
        "\n",
        "student1= Student(\"Raj\", [89,87,67,78])\n",
        "student2= Student(\"Roy\", [77,67,89,98])\n",
        "\n",
        "print(f\"Average grade of {student1.name}: {student1.average_grade()}\")\n",
        "print(f\"Average grade of {student2.name}: {student2.average_grade()}\")\n",
        "\n",
        "\n"
      ],
      "metadata": {
        "colab": {
          "base_uri": "https://localhost:8080/"
        },
        "id": "JjwPrlY-HS6V",
        "outputId": "7b97a735-3307-4fa2-9c01-b87529a40066"
      },
      "execution_count": null,
      "outputs": [
        {
          "output_type": "stream",
          "name": "stdout",
          "text": [
            "Average grade of Raj: 80.25\n",
            "Average grade of Roy: 82.75\n"
          ]
        }
      ]
    },
    {
      "cell_type": "markdown",
      "source": [
        "13. . Create a class Rectangle with methods set_dimensions() to set the dimensions and area() to calculate the area."
      ],
      "metadata": {
        "id": "Pl01w0RpKHcd"
      }
    },
    {
      "cell_type": "code",
      "source": [
        "class Rectangle:\n",
        "  def __init__(self, length=0, width=0):\n",
        "    self.length = length\n",
        "    self.width = width\n",
        "\n",
        "  def set_dimensions(self, length, width):\n",
        "    self.length = length\n",
        "    self. width = width\n",
        "\n",
        "  def area(self):\n",
        "    return self.length * self.width\n",
        "\n",
        "rectangle1 = Rectangle()\n",
        "rectangle1.set_dimensions(5,4)\n",
        "print(\"Area:\", rectangle1.area())\n",
        "\n",
        "rectangle2 = Rectangle()\n",
        "rectangle2.set_dimensions(6,3)\n",
        "print(\"Area:\", rectangle2.area())"
      ],
      "metadata": {
        "colab": {
          "base_uri": "https://localhost:8080/"
        },
        "id": "TJ-b190NJjfl",
        "outputId": "c1aceb2d-9e64-4745-8de4-8825971e0c1b"
      },
      "execution_count": null,
      "outputs": [
        {
          "output_type": "stream",
          "name": "stdout",
          "text": [
            "Area: 20\n",
            "Area: 18\n"
          ]
        }
      ]
    },
    {
      "cell_type": "markdown",
      "source": [
        "14. Create a class Employee with a method calculate_salary() that computes the salary based on hours worked and hourly rate. Create a derived class Manager that adds a bonus to the salary."
      ],
      "metadata": {
        "id": "g5TX4lEtLi6f"
      }
    },
    {
      "cell_type": "code",
      "source": [
        "class Employee:\n",
        "  def __init__(self, name, hours_worked, hourly_rate):\n",
        "    self.name = name\n",
        "    self.hours_worked = hours_worked\n",
        "    self.hourly_rate = hourly_rate\n",
        "\n",
        "  def calculate_salary(self):\n",
        "    return self.hours_worked * self.hourly_rate\n",
        "\n",
        "class Manager(Employee):\n",
        "  def __init__(self, name, hours_worked, hourly_rate, bonus):\n",
        "    self.name = name\n",
        "    self.hours_worked = hours_worked\n",
        "    self.hourly_rate = hourly_rate\n",
        "    self.bonus = bonus\n",
        "\n",
        "  def calculate_salary(self):\n",
        "    base_salary = super().calculate_salary()\n",
        "    return base_salary + self.bonus\n",
        "\n",
        "employee1= Employee(\"Raj\", 40, 350)\n",
        "manager1= Manager(\"Roy\", 40, 60, 100000)\n",
        "\n",
        "print(f\"{employee1.name}'s salary: {employee1.calculate_salary()}\")\n",
        "print(f\"{manager1.name}'s salary: {manager1.calculate_salary()}\")\n",
        "\n"
      ],
      "metadata": {
        "colab": {
          "base_uri": "https://localhost:8080/"
        },
        "id": "M_zaZNSRKSn7",
        "outputId": "1151d2ee-d140-4c01-d7ab-11cce4c41b48"
      },
      "execution_count": null,
      "outputs": [
        {
          "output_type": "stream",
          "name": "stdout",
          "text": [
            "Raj's salary: 14000\n",
            "Roy's salary: 102400\n"
          ]
        }
      ]
    },
    {
      "cell_type": "markdown",
      "source": [
        "15. Create a class Product with attributes name, price, and quantity. Implement a method total_price() that calculates the total price of the product."
      ],
      "metadata": {
        "id": "MNIrtWZWObl1"
      }
    },
    {
      "cell_type": "code",
      "source": [
        "from itertools import product\n",
        "class Product:\n",
        "  def __init__(self, name, price, quantity):\n",
        "    self.name = name\n",
        "    self.price = price\n",
        "    self.quantity = quantity\n",
        "\n",
        "  def total_price(self):\n",
        "    return self.price * self.quantity\n",
        "\n",
        "product1= Product(\"Laptop\", 20000, 5)\n",
        "product2 = Product (\"Mobile\", 15000, 10)\n",
        "\n",
        "print(f\"Total price of {product1.name}: {product1.total_price()}\")\n",
        "print(f\"Total price of {product2.name}: {product2.total_price()}\")"
      ],
      "metadata": {
        "colab": {
          "base_uri": "https://localhost:8080/"
        },
        "id": "ecvdr-e-KSUs",
        "outputId": "1aa2a83e-781a-40c8-b31a-5d972753b347"
      },
      "execution_count": null,
      "outputs": [
        {
          "output_type": "stream",
          "name": "stdout",
          "text": [
            "Total price of Laptop: 100000\n",
            "Total price of Mobile: 150000\n"
          ]
        }
      ]
    },
    {
      "cell_type": "markdown",
      "source": [
        "16. Create a class Animal with an abstract method sound(). Create two derived classes Cow and Sheep that implement the sound() method."
      ],
      "metadata": {
        "id": "L0T08YquPkf6"
      }
    },
    {
      "cell_type": "code",
      "source": [
        "from abc import ABC, abstractmethod\n",
        "\n",
        "class Animal(ABC):\n",
        "  @abstractmethod\n",
        "  def sound(self):\n",
        "    pass\n",
        "\n",
        "class Cow(Animal):\n",
        "  def sound(self):\n",
        "    return \"Moo\"\n",
        "\n",
        "class Sheep(Animal):\n",
        "  def sound(self):\n",
        "    return \"Baa\"\n",
        "\n",
        "cow= Cow()\n",
        "print(\"Cow Sound:\", cow.sound())\n",
        "\n",
        "sheep= Sheep()\n",
        "print(\"Sheep Sound:\", sheep.sound())"
      ],
      "metadata": {
        "colab": {
          "base_uri": "https://localhost:8080/"
        },
        "id": "5Lf5kNWgPdgw",
        "outputId": "310c3634-f925-4a4c-d042-752591542a1f"
      },
      "execution_count": null,
      "outputs": [
        {
          "output_type": "stream",
          "name": "stdout",
          "text": [
            "Cow Sound: Moo\n",
            "Sheep Sound: Baa\n"
          ]
        }
      ]
    },
    {
      "cell_type": "markdown",
      "source": [
        "17.  Create a class Book with attributes title, author, and year_published. Add a method get_book_info() that\n",
        "returns a formatted string with the book's details."
      ],
      "metadata": {
        "id": "OI-TyHWCRh0K"
      }
    },
    {
      "cell_type": "code",
      "source": [
        "class Book:\n",
        "  def __init__(self, title, author, year_published):\n",
        "    self.title = title\n",
        "    self.author = author\n",
        "    self.year_published = year_published\n",
        "\n",
        "  def get_book_info(self):\n",
        "    return f\"Title: {self.title}\\nAuthor: {self.author}\\nYear_published: {self.year_published}\"\n",
        "\n",
        "book1= Book(\"1984\", \"George Orwell\", 1949)\n",
        "print(book1.get_book_info())\n",
        "print()\n",
        "book2 = Book(\"1776\", \"David McCullough\", 1969)\n",
        "print(book2.get_book_info())"
      ],
      "metadata": {
        "id": "jV1rqRL-RGpG",
        "colab": {
          "base_uri": "https://localhost:8080/"
        },
        "outputId": "80bd1fed-d3fc-4cf0-d0e5-e1d0eb2022af"
      },
      "execution_count": 56,
      "outputs": [
        {
          "output_type": "stream",
          "name": "stdout",
          "text": [
            "Title: 1984\n",
            "Author: George Orwell\n",
            "Year_published: 1949\n",
            "\n",
            "Title: 1776\n",
            "Author: David McCullough\n",
            "Year_published: 1969\n"
          ]
        }
      ]
    },
    {
      "cell_type": "markdown",
      "source": [
        "18.  Create a class House with attributes address and price. Create a derived class Mansion that adds an attribute number_of_rooms."
      ],
      "metadata": {
        "id": "fB6EYQf8UDf5"
      }
    },
    {
      "cell_type": "code",
      "source": [
        "class House:\n",
        "  def __init__(self, address, price):\n",
        "    self.address = address\n",
        "    self.price = price\n",
        "\n",
        "  def get_house_info(self):\n",
        "    return f\"Address: {self.address}\\nprice: {self.price}\"\n",
        "\n",
        "class Mansion(House):\n",
        "  def __init__(self, address, price, number_of_rooms):\n",
        "    super().__init__(address, price)\n",
        "    self.number_of_rooms = number_of_rooms\n",
        "\n",
        "  def get_mansion_info(self):\n",
        "    house_info = super().get_house_info()\n",
        "    return f\"{house_info}\\nNumber_of_rooms: {self.number_of_rooms}\"\n",
        "\n",
        "house1 = House(\"23 main st\", 250000)\n",
        "mansion1 = Mansion(\"12 luxury\", 1500000,10)\n",
        "\n",
        "print(house1.get_house_info())\n",
        "print()\n",
        "print(mansion1.get_mansion_info())"
      ],
      "metadata": {
        "colab": {
          "base_uri": "https://localhost:8080/"
        },
        "id": "YaLJDqyDTbJ7",
        "outputId": "a7d43737-aa7b-40cb-9b8e-4f570a7ff460"
      },
      "execution_count": 58,
      "outputs": [
        {
          "output_type": "stream",
          "name": "stdout",
          "text": [
            "Address: 23 main st\n",
            "price: 250000\n",
            "\n",
            "Address: 12 luxury\n",
            "price: 1500000\n",
            "Number_of_rooms: 10\n"
          ]
        }
      ]
    },
    {
      "cell_type": "code",
      "source": [],
      "metadata": {
        "id": "L5w1nilzV42_"
      },
      "execution_count": 58,
      "outputs": []
    }
  ]
}